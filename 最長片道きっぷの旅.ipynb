{
  "nbformat": 4,
  "nbformat_minor": 0,
  "metadata": {
    "colab": {
      "provenance": [],
      "authorship_tag": "ABX9TyMV11mWBSy8qb13f/TPfCef",
      "include_colab_link": true
    },
    "kernelspec": {
      "name": "python3",
      "display_name": "Python 3"
    },
    "language_info": {
      "name": "python"
    }
  },
  "cells": [
    {
      "cell_type": "markdown",
      "metadata": {
        "id": "view-in-github",
        "colab_type": "text"
      },
      "source": [
        "<a href=\"https://colab.research.google.com/github/hina81/LongestTicketJourney/blob/main/%E6%9C%80%E9%95%B7%E7%89%87%E9%81%93%E3%81%8D%E3%81%A3%E3%81%B7%E3%81%AE%E6%97%85.ipynb\" target=\"_parent\"><img src=\"https://colab.research.google.com/assets/colab-badge.svg\" alt=\"Open In Colab\"/></a>"
      ]
    },
    {
      "cell_type": "markdown",
      "source": [
        "\n",
        "### 実行環境\n",
        "- Google Colaboratory (Python 3.11.11)\n",
        "\n",
        "### 入力方法について\n",
        "\n",
        "Google Colab では複数行の標準入力が扱えないため、`input_data` 変数に入力例を格納しています。\n",
        "\n",
        "標準入力を使う場合は 1 つ目のセルを、Colab で実行する場合は 2 つ目のセルを使用してください。"
      ],
      "metadata": {
        "id": "jp-KxmXYSlJB"
      }
    },
    {
      "cell_type": "code",
      "source": [
        "## 標準入力対応\n",
        "\n",
        "import sys\n",
        "\n",
        "def build_graph(data):\n",
        "    \"\"\"隣接リスト形式の辞書に変換\"\"\"\n",
        "    graph = {}\n",
        "\n",
        "    for u, v, cost in data:\n",
        "        if u not in graph:\n",
        "            graph[u] = []\n",
        "        if v not in graph:\n",
        "            graph[v] = []\n",
        "\n",
        "        graph[u].append((v, cost))\n",
        "        graph[v].append((u, cost))\n",
        "\n",
        "    return graph\n",
        "\n",
        "def find_longest_path(graph):\n",
        "    \"\"\"全ての駅をスタート地点として試す\"\"\"\n",
        "    max_distance = 0\n",
        "    longest_route = []\n",
        "\n",
        "    for station in graph:\n",
        "        visited = set() # 空のセット型　重複しない　訪れた駅を保存\n",
        "        path = [] # 空のリスト　経路を保存\n",
        "        distance, route = longest_path(graph, station, visited, 0, path)\n",
        "\n",
        "        if distance > max_distance:\n",
        "            max_distance = distance\n",
        "            longest_route = route  # 最長経路を更新\n",
        "\n",
        "    return max_distance, longest_route\n",
        "\n",
        "def longest_path(graph, current, visited, length, path):\n",
        "    \"\"\" 深さ優先探索で最長の片道距離と経路を求める \"\"\"\n",
        "    visited.add(current) # 現在の駅を訪問済みにする\n",
        "    path.append(current)  # 現在の駅を記録\n",
        "    max_length = length\n",
        "    max_path = list(path) # 現時点の経路を保存（探索が進んでも影響を受けないように）\n",
        "\n",
        "    for neighbor, cost in graph[current]: # つながっている駅を調べる(辞書型の連結リストから)\n",
        "        if neighbor not in visited:  # まだ訪れていない駅なら探索\n",
        "            new_length, new_path = longest_path(graph, neighbor, visited, length + cost, path)  #先がなくなるまで探索を繰り返す（visitedに全部入るまで）\n",
        "            if new_length > max_length:  # より長い経路なら更新\n",
        "                max_length = new_length #距離の更新\n",
        "                max_path = new_path #経路の更新\n",
        "\n",
        "    path.pop()  # 探索が終わったらリストから削除（探索前の状態に戻すため、直前の駅をリストから削除して戻す）\n",
        "    visited.remove(current)  # 探索を終えた駅を、訪問済みリストから削除\n",
        "\n",
        "    return max_length, max_path\n",
        "\n",
        "\n",
        "input_data = sys.stdin.read()\n",
        "\n",
        "cleaned_data = input_data.encode().decode(\"unicode_escape\")\n",
        "cleaned_data = cleaned_data.replace(\"\\r\\n\", \"\\n\").strip() # 改行を統一\n",
        "lines = [line.strip() for line in cleaned_data.split(\"\\n\")] # 改行で分割\n",
        "data = [tuple(map(lambda x: float(x) if \".\" in x else int(x), line.split(\",\"))) for line in lines] # データをタプルに変換 (int,int,float),(始点,終点,距離),(xx,xx,xx),....\n",
        "\n",
        "\n",
        "# 変換\n",
        "graph = build_graph(data)\n",
        "\n",
        "# 結果\n",
        "max_distance, longest_route = find_longest_path(graph)\n",
        "\n",
        "# 出力\n",
        "# print(\"最長距離:\", round(max_distance, 2))  # 小数点第2位まで\n",
        "for item in longest_route:\n",
        "    print(item)\n"
      ],
      "metadata": {
        "colab": {
          "base_uri": "https://localhost:8080/",
          "height": 373
        },
        "id": "5JPT2uBqvTqZ",
        "outputId": "738c7311-7293-4f20-e6fc-ff1abe4fb0fb"
      },
      "execution_count": 12,
      "outputs": [
        {
          "output_type": "error",
          "ename": "ValueError",
          "evalue": "invalid literal for int() with base 10: ''",
          "traceback": [
            "\u001b[0;31m---------------------------------------------------------------------------\u001b[0m",
            "\u001b[0;31mValueError\u001b[0m                                Traceback (most recent call last)",
            "\u001b[0;32m<ipython-input-12-e4c1d420d9b8>\u001b[0m in \u001b[0;36m<cell line: 0>\u001b[0;34m()\u001b[0m\n\u001b[1;32m     59\u001b[0m \u001b[0mcleaned_data\u001b[0m \u001b[0;34m=\u001b[0m \u001b[0mcleaned_data\u001b[0m\u001b[0;34m.\u001b[0m\u001b[0mreplace\u001b[0m\u001b[0;34m(\u001b[0m\u001b[0;34m\"\\r\\n\"\u001b[0m\u001b[0;34m,\u001b[0m \u001b[0;34m\"\\n\"\u001b[0m\u001b[0;34m)\u001b[0m\u001b[0;34m.\u001b[0m\u001b[0mstrip\u001b[0m\u001b[0;34m(\u001b[0m\u001b[0;34m)\u001b[0m \u001b[0;31m# 改行を統一\u001b[0m\u001b[0;34m\u001b[0m\u001b[0;34m\u001b[0m\u001b[0m\n\u001b[1;32m     60\u001b[0m \u001b[0mlines\u001b[0m \u001b[0;34m=\u001b[0m \u001b[0;34m[\u001b[0m\u001b[0mline\u001b[0m\u001b[0;34m.\u001b[0m\u001b[0mstrip\u001b[0m\u001b[0;34m(\u001b[0m\u001b[0;34m)\u001b[0m \u001b[0;32mfor\u001b[0m \u001b[0mline\u001b[0m \u001b[0;32min\u001b[0m \u001b[0mcleaned_data\u001b[0m\u001b[0;34m.\u001b[0m\u001b[0msplit\u001b[0m\u001b[0;34m(\u001b[0m\u001b[0;34m\"\\n\"\u001b[0m\u001b[0;34m)\u001b[0m\u001b[0;34m]\u001b[0m \u001b[0;31m# 改行で分割\u001b[0m\u001b[0;34m\u001b[0m\u001b[0;34m\u001b[0m\u001b[0m\n\u001b[0;32m---> 61\u001b[0;31m \u001b[0mdata\u001b[0m \u001b[0;34m=\u001b[0m \u001b[0;34m[\u001b[0m\u001b[0mtuple\u001b[0m\u001b[0;34m(\u001b[0m\u001b[0mmap\u001b[0m\u001b[0;34m(\u001b[0m\u001b[0;32mlambda\u001b[0m \u001b[0mx\u001b[0m\u001b[0;34m:\u001b[0m \u001b[0mfloat\u001b[0m\u001b[0;34m(\u001b[0m\u001b[0mx\u001b[0m\u001b[0;34m)\u001b[0m \u001b[0;32mif\u001b[0m \u001b[0;34m\".\"\u001b[0m \u001b[0;32min\u001b[0m \u001b[0mx\u001b[0m \u001b[0;32melse\u001b[0m \u001b[0mint\u001b[0m\u001b[0;34m(\u001b[0m\u001b[0mx\u001b[0m\u001b[0;34m)\u001b[0m\u001b[0;34m,\u001b[0m \u001b[0mline\u001b[0m\u001b[0;34m.\u001b[0m\u001b[0msplit\u001b[0m\u001b[0;34m(\u001b[0m\u001b[0;34m\",\"\u001b[0m\u001b[0;34m)\u001b[0m\u001b[0;34m)\u001b[0m\u001b[0;34m)\u001b[0m \u001b[0;32mfor\u001b[0m \u001b[0mline\u001b[0m \u001b[0;32min\u001b[0m \u001b[0mlines\u001b[0m\u001b[0;34m]\u001b[0m \u001b[0;31m# データをタプルに変換 (int,int,float),(始点,終点,距離),(xx,xx,xx),....\u001b[0m\u001b[0;34m\u001b[0m\u001b[0;34m\u001b[0m\u001b[0m\n\u001b[0m\u001b[1;32m     62\u001b[0m \u001b[0;34m\u001b[0m\u001b[0m\n\u001b[1;32m     63\u001b[0m \u001b[0;34m\u001b[0m\u001b[0m\n",
            "\u001b[0;32m<ipython-input-12-e4c1d420d9b8>\u001b[0m in \u001b[0;36m<listcomp>\u001b[0;34m(.0)\u001b[0m\n\u001b[1;32m     59\u001b[0m \u001b[0mcleaned_data\u001b[0m \u001b[0;34m=\u001b[0m \u001b[0mcleaned_data\u001b[0m\u001b[0;34m.\u001b[0m\u001b[0mreplace\u001b[0m\u001b[0;34m(\u001b[0m\u001b[0;34m\"\\r\\n\"\u001b[0m\u001b[0;34m,\u001b[0m \u001b[0;34m\"\\n\"\u001b[0m\u001b[0;34m)\u001b[0m\u001b[0;34m.\u001b[0m\u001b[0mstrip\u001b[0m\u001b[0;34m(\u001b[0m\u001b[0;34m)\u001b[0m \u001b[0;31m# 改行を統一\u001b[0m\u001b[0;34m\u001b[0m\u001b[0;34m\u001b[0m\u001b[0m\n\u001b[1;32m     60\u001b[0m \u001b[0mlines\u001b[0m \u001b[0;34m=\u001b[0m \u001b[0;34m[\u001b[0m\u001b[0mline\u001b[0m\u001b[0;34m.\u001b[0m\u001b[0mstrip\u001b[0m\u001b[0;34m(\u001b[0m\u001b[0;34m)\u001b[0m \u001b[0;32mfor\u001b[0m \u001b[0mline\u001b[0m \u001b[0;32min\u001b[0m \u001b[0mcleaned_data\u001b[0m\u001b[0;34m.\u001b[0m\u001b[0msplit\u001b[0m\u001b[0;34m(\u001b[0m\u001b[0;34m\"\\n\"\u001b[0m\u001b[0;34m)\u001b[0m\u001b[0;34m]\u001b[0m \u001b[0;31m# 改行で分割\u001b[0m\u001b[0;34m\u001b[0m\u001b[0;34m\u001b[0m\u001b[0m\n\u001b[0;32m---> 61\u001b[0;31m \u001b[0mdata\u001b[0m \u001b[0;34m=\u001b[0m \u001b[0;34m[\u001b[0m\u001b[0mtuple\u001b[0m\u001b[0;34m(\u001b[0m\u001b[0mmap\u001b[0m\u001b[0;34m(\u001b[0m\u001b[0;32mlambda\u001b[0m \u001b[0mx\u001b[0m\u001b[0;34m:\u001b[0m \u001b[0mfloat\u001b[0m\u001b[0;34m(\u001b[0m\u001b[0mx\u001b[0m\u001b[0;34m)\u001b[0m \u001b[0;32mif\u001b[0m \u001b[0;34m\".\"\u001b[0m \u001b[0;32min\u001b[0m \u001b[0mx\u001b[0m \u001b[0;32melse\u001b[0m \u001b[0mint\u001b[0m\u001b[0;34m(\u001b[0m\u001b[0mx\u001b[0m\u001b[0;34m)\u001b[0m\u001b[0;34m,\u001b[0m \u001b[0mline\u001b[0m\u001b[0;34m.\u001b[0m\u001b[0msplit\u001b[0m\u001b[0;34m(\u001b[0m\u001b[0;34m\",\"\u001b[0m\u001b[0;34m)\u001b[0m\u001b[0;34m)\u001b[0m\u001b[0;34m)\u001b[0m \u001b[0;32mfor\u001b[0m \u001b[0mline\u001b[0m \u001b[0;32min\u001b[0m \u001b[0mlines\u001b[0m\u001b[0;34m]\u001b[0m \u001b[0;31m# データをタプルに変換 (int,int,float),(始点,終点,距離),(xx,xx,xx),....\u001b[0m\u001b[0;34m\u001b[0m\u001b[0;34m\u001b[0m\u001b[0m\n\u001b[0m\u001b[1;32m     62\u001b[0m \u001b[0;34m\u001b[0m\u001b[0m\n\u001b[1;32m     63\u001b[0m \u001b[0;34m\u001b[0m\u001b[0m\n",
            "\u001b[0;32m<ipython-input-12-e4c1d420d9b8>\u001b[0m in \u001b[0;36m<lambda>\u001b[0;34m(x)\u001b[0m\n\u001b[1;32m     59\u001b[0m \u001b[0mcleaned_data\u001b[0m \u001b[0;34m=\u001b[0m \u001b[0mcleaned_data\u001b[0m\u001b[0;34m.\u001b[0m\u001b[0mreplace\u001b[0m\u001b[0;34m(\u001b[0m\u001b[0;34m\"\\r\\n\"\u001b[0m\u001b[0;34m,\u001b[0m \u001b[0;34m\"\\n\"\u001b[0m\u001b[0;34m)\u001b[0m\u001b[0;34m.\u001b[0m\u001b[0mstrip\u001b[0m\u001b[0;34m(\u001b[0m\u001b[0;34m)\u001b[0m \u001b[0;31m# 改行を統一\u001b[0m\u001b[0;34m\u001b[0m\u001b[0;34m\u001b[0m\u001b[0m\n\u001b[1;32m     60\u001b[0m \u001b[0mlines\u001b[0m \u001b[0;34m=\u001b[0m \u001b[0;34m[\u001b[0m\u001b[0mline\u001b[0m\u001b[0;34m.\u001b[0m\u001b[0mstrip\u001b[0m\u001b[0;34m(\u001b[0m\u001b[0;34m)\u001b[0m \u001b[0;32mfor\u001b[0m \u001b[0mline\u001b[0m \u001b[0;32min\u001b[0m \u001b[0mcleaned_data\u001b[0m\u001b[0;34m.\u001b[0m\u001b[0msplit\u001b[0m\u001b[0;34m(\u001b[0m\u001b[0;34m\"\\n\"\u001b[0m\u001b[0;34m)\u001b[0m\u001b[0;34m]\u001b[0m \u001b[0;31m# 改行で分割\u001b[0m\u001b[0;34m\u001b[0m\u001b[0;34m\u001b[0m\u001b[0m\n\u001b[0;32m---> 61\u001b[0;31m \u001b[0mdata\u001b[0m \u001b[0;34m=\u001b[0m \u001b[0;34m[\u001b[0m\u001b[0mtuple\u001b[0m\u001b[0;34m(\u001b[0m\u001b[0mmap\u001b[0m\u001b[0;34m(\u001b[0m\u001b[0;32mlambda\u001b[0m \u001b[0mx\u001b[0m\u001b[0;34m:\u001b[0m \u001b[0mfloat\u001b[0m\u001b[0;34m(\u001b[0m\u001b[0mx\u001b[0m\u001b[0;34m)\u001b[0m \u001b[0;32mif\u001b[0m \u001b[0;34m\".\"\u001b[0m \u001b[0;32min\u001b[0m \u001b[0mx\u001b[0m \u001b[0;32melse\u001b[0m \u001b[0mint\u001b[0m\u001b[0;34m(\u001b[0m\u001b[0mx\u001b[0m\u001b[0;34m)\u001b[0m\u001b[0;34m,\u001b[0m \u001b[0mline\u001b[0m\u001b[0;34m.\u001b[0m\u001b[0msplit\u001b[0m\u001b[0;34m(\u001b[0m\u001b[0;34m\",\"\u001b[0m\u001b[0;34m)\u001b[0m\u001b[0;34m)\u001b[0m\u001b[0;34m)\u001b[0m \u001b[0;32mfor\u001b[0m \u001b[0mline\u001b[0m \u001b[0;32min\u001b[0m \u001b[0mlines\u001b[0m\u001b[0;34m]\u001b[0m \u001b[0;31m# データをタプルに変換 (int,int,float),(始点,終点,距離),(xx,xx,xx),....\u001b[0m\u001b[0;34m\u001b[0m\u001b[0;34m\u001b[0m\u001b[0m\n\u001b[0m\u001b[1;32m     62\u001b[0m \u001b[0;34m\u001b[0m\u001b[0m\n\u001b[1;32m     63\u001b[0m \u001b[0;34m\u001b[0m\u001b[0m\n",
            "\u001b[0;31mValueError\u001b[0m: invalid literal for int() with base 10: ''"
          ]
        }
      ]
    },
    {
      "cell_type": "code",
      "source": [
        "## google colab上で動作\n",
        "\n",
        "input_data = \"1, 2, 8.54\\r\\n 2, 3, 3.11\\r\\n 3, 1, 2.19 \\r\\n3, 4, 4\\r\\n 4, 1, 1.4\\r\\n\"\n",
        "\n",
        "def build_graph(data):\n",
        "    \"\"\"隣接リスト形式の辞書に変換\"\"\"\n",
        "    graph = {}\n",
        "\n",
        "    for u, v, cost in data:\n",
        "        if u not in graph:\n",
        "            graph[u] = []\n",
        "        if v not in graph:\n",
        "            graph[v] = []\n",
        "\n",
        "        graph[u].append((v, cost))\n",
        "        graph[v].append((u, cost))\n",
        "\n",
        "    return graph\n",
        "\n",
        "def find_longest_path(graph):\n",
        "    \"\"\"全ての駅をスタート地点として試す\"\"\"\n",
        "    max_distance = 0\n",
        "    longest_route = []\n",
        "\n",
        "    for station in graph:\n",
        "        visited = set() # 空のセット型　重複しない　訪れた駅を保存\n",
        "        path = [] # 空のリスト　経路を保存\n",
        "        distance, route = longest_path(graph, station, visited, 0, path) # 最長の片道距離と経路を求める\n",
        "\n",
        "        if distance > max_distance: # より長い経路が見つかった場合は更新\n",
        "            max_distance = distance # 最大距離を更新\n",
        "            longest_route = route  # 最長経路を更新\n",
        "\n",
        "    return max_distance, longest_route\n",
        "\n",
        "def longest_path(graph, current, visited, length, path):\n",
        "    \"\"\" 深さ優先探索で最長の片道距離と経路を求める \"\"\"\n",
        "    visited.add(current) # 現在の駅を訪問済みにする\n",
        "    path.append(current)  # 現在の駅を記録\n",
        "    max_length = length\n",
        "    max_path = list(path) # 現時点の経路を保存（探索が進んでも影響を受けないように）\n",
        "\n",
        "    for neighbor, cost in graph[current]: # つながっている駅を調べる(辞書型の連結リストから)\n",
        "        if neighbor not in visited:  # まだ訪れていない駅なら探索\n",
        "            new_length, new_path = longest_path(graph, neighbor, visited, length + cost, path)  #先がなくなるまで探索を繰り返す（visitedに全部入るまで）\n",
        "            if new_length > max_length:  # より長い経路なら更新\n",
        "                max_length = new_length #距離の更新\n",
        "                max_path = new_path #経路の更新\n",
        "\n",
        "    path.pop()  # 探索が終わったらリストから削除（探索前の状態に戻すため、直前の駅をリストから削除して戻す）\n",
        "    visited.remove(current)  # 探索を終えた駅を、訪問済みリストから削除\n",
        "\n",
        "    return max_length, max_path\n",
        "\n",
        "\n",
        "cleaned_data = input_data.encode().decode(\"unicode_escape\")\n",
        "cleaned_data = cleaned_data.replace(\"\\r\\n\", \"\\n\").strip() # 改行を統一\n",
        "lines = [line.strip() for line in cleaned_data.split(\"\\n\")] # 改行で分割\n",
        "data = [tuple(map(lambda x: float(x) if \".\" in x else int(x), line.split(\",\"))) for line in lines] # データをタプルに変換 (int,int,float),(始点,終点,距離),(xx,xx,xx),....\n",
        "\n",
        "\n",
        "# 変換\n",
        "graph = build_graph(data)\n",
        "\n",
        "# 結果\n",
        "max_distance, longest_route = find_longest_path(graph)\n",
        "\n",
        "# 出力\n",
        "# print(\"最長距離:\", round(max_distance, 2))  # 小数点第2位まで\n",
        "for item in longest_route:\n",
        "    print(item)\n"
      ],
      "metadata": {
        "colab": {
          "base_uri": "https://localhost:8080/"
        },
        "id": "fznW0a7kGvh6",
        "outputId": "b2a4886b-bcd3-4cf2-88e4-6d3c28a156f5"
      },
      "execution_count": 11,
      "outputs": [
        {
          "output_type": "stream",
          "name": "stdout",
          "text": [
            "1\n",
            "2\n",
            "3\n",
            "4\n"
          ]
        }
      ]
    }
  ]
}